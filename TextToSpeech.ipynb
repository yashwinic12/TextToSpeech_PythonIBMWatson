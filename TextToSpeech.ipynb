{
 "cells": [
  {
   "cell_type": "markdown",
   "id": "37a0fec0",
   "metadata": {},
   "source": [
    "# 0. Install Dependencies"
   ]
  },
  {
   "cell_type": "code",
   "execution_count": 3,
   "id": "6db5c46b",
   "metadata": {},
   "outputs": [
    {
     "name": "stdout",
     "output_type": "stream",
     "text": [
      "Requirement already satisfied: ibm_watson in c:\\users\\hp\\anaconda3\\lib\\site-packages (7.0.0)\n",
      "Requirement already satisfied: requests<3.0,>=2.0 in c:\\users\\hp\\anaconda3\\lib\\site-packages (from ibm_watson) (2.31.0)\n",
      "Requirement already satisfied: ibm-cloud-sdk-core==3.*,>=3.3.6 in c:\\users\\hp\\anaconda3\\lib\\site-packages (from ibm_watson) (3.16.6)\n",
      "Requirement already satisfied: python-dateutil>=2.5.3 in c:\\users\\hp\\anaconda3\\lib\\site-packages (from ibm_watson) (2.8.2)\n",
      "Requirement already satisfied: websocket-client==1.1.0 in c:\\users\\hp\\anaconda3\\lib\\site-packages (from ibm_watson) (1.1.0)\n",
      "Requirement already satisfied: urllib3<2.0.0,>=1.26.0 in c:\\users\\hp\\anaconda3\\lib\\site-packages (from ibm-cloud-sdk-core==3.*,>=3.3.6->ibm_watson) (1.26.7)\n",
      "Requirement already satisfied: PyJWT<3.0.0,>=2.4.0 in c:\\users\\hp\\anaconda3\\lib\\site-packages (from ibm-cloud-sdk-core==3.*,>=3.3.6->ibm_watson) (2.7.0)\n",
      "Requirement already satisfied: six>=1.5 in c:\\users\\hp\\anaconda3\\lib\\site-packages (from python-dateutil>=2.5.3->ibm_watson) (1.15.0)\n",
      "Requirement already satisfied: idna<4,>=2.5 in c:\\users\\hp\\anaconda3\\lib\\site-packages (from requests<3.0,>=2.0->ibm_watson) (3.2)\n",
      "Requirement already satisfied: charset-normalizer<4,>=2 in c:\\users\\hp\\anaconda3\\lib\\site-packages (from requests<3.0,>=2.0->ibm_watson) (2.0.4)\n",
      "Requirement already satisfied: certifi>=2017.4.17 in c:\\users\\hp\\anaconda3\\lib\\site-packages (from requests<3.0,>=2.0->ibm_watson) (2021.10.8)\n"
     ]
    }
   ],
   "source": [
    "!pip install ibm_watson"
   ]
  },
  {
   "cell_type": "markdown",
   "id": "38f9f5ea",
   "metadata": {},
   "source": [
    "# 1. Authenticate"
   ]
  },
  {
   "cell_type": "code",
   "execution_count": 5,
   "id": "d06dba81",
   "metadata": {},
   "outputs": [],
   "source": [
    "apikey = 'xYxAasWCUIdtacnLjnstT-mwpoxvlNc_kBZvjGFpowyw'\n",
    "url = 'https://api.eu-gb.text-to-speech.watson.cloud.ibm.com/instances/254b72db-7538-4cc3-babf-c9ce24b69939'"
   ]
  },
  {
   "cell_type": "code",
   "execution_count": 6,
   "id": "9df29b5c",
   "metadata": {},
   "outputs": [],
   "source": [
    "from ibm_watson import TextToSpeechV1\n",
    "from ibm_cloud_sdk_core.authenticators import IAMAuthenticator"
   ]
  },
  {
   "cell_type": "code",
   "execution_count": 7,
   "id": "21cb894f",
   "metadata": {},
   "outputs": [],
   "source": [
    "#Setup Service\n",
    "authenticator = IAMAuthenticator(apikey)\n",
    "#New TTS Service\n",
    "tts = TextToSpeechV1(authenticator=authenticator)\n",
    "#Set Service URL\n",
    "tts.set_service_url(url)"
   ]
  },
  {
   "cell_type": "markdown",
   "id": "d834248b",
   "metadata": {},
   "source": [
    "# 2. Convert with A Basic Language Model"
   ]
  },
  {
   "cell_type": "code",
   "execution_count": 10,
   "id": "1991bf4e",
   "metadata": {},
   "outputs": [],
   "source": [
    "with open('./speech.mp3', 'wb') as audio_file:\n",
    "    res = tts.synthesize('Hello World!', accept='audio/mp3', voice='en-US_AllisonV3Voice').get_result()\n",
    "    audio_file.write(res.content)"
   ]
  },
  {
   "cell_type": "markdown",
   "id": "a1210a78",
   "metadata": {},
   "source": [
    "# 3. Reading from a File"
   ]
  },
  {
   "cell_type": "code",
   "execution_count": 14,
   "id": "e994d9ea",
   "metadata": {},
   "outputs": [],
   "source": [
    "with open('churchill.txt', 'r') as f:\n",
    "    text = f.readlines()"
   ]
  },
  {
   "cell_type": "code",
   "execution_count": 16,
   "id": "21216827",
   "metadata": {},
   "outputs": [],
   "source": [
    "text = [line.replace('\\n','') for line in text]"
   ]
  },
  {
   "cell_type": "code",
   "execution_count": 17,
   "id": "79dc0adc",
   "metadata": {},
   "outputs": [
    {
     "data": {
      "text/plain": [
       "['We shall go on to the end, we shall fight in France, we shall fight on the seas and oceans, ',\n",
       " 'we shall fight with growing confidence and growing strength in the air, we shall defend our ',\n",
       " 'Island, whatever the cost may be, we shall fight on the beaches, we shall fight on the landing ',\n",
       " 'grounds, we shall fight in the fields and in the streets, we shall fight in the hills; we ',\n",
       " 'shall never surrender, and even if, which I do not for a moment believe, this Island or a ',\n",
       " 'large part of it were subjugated and starving, then our Empire beyond the seas, armed and ',\n",
       " 'guarded by the British Fleet, would carry on the struggle, until, in Godâ€™s good time, the ',\n",
       " 'New World, with all its power and might, steps forth to the rescue and the liberation of the old.']"
      ]
     },
     "execution_count": 17,
     "metadata": {},
     "output_type": "execute_result"
    }
   ],
   "source": [
    "text"
   ]
  },
  {
   "cell_type": "code",
   "execution_count": 21,
   "id": "05e7f35e",
   "metadata": {},
   "outputs": [],
   "source": [
    "text = ''.join(str(line) for line in text)"
   ]
  },
  {
   "cell_type": "code",
   "execution_count": 24,
   "id": "1061f056",
   "metadata": {},
   "outputs": [],
   "source": [
    "with open('./churchill.mp3', 'wb') as audio_file:\n",
    "    res = tts.synthesize(text, accept='audio/mp3', voice='en-US_AllisonV3Voice').get_result()\n",
    "    audio_file.write(res.content)"
   ]
  },
  {
   "cell_type": "markdown",
   "id": "5a6c543f",
   "metadata": {},
   "source": [
    "# 4. Convert with a Different Language Model"
   ]
  },
  {
   "cell_type": "code",
   "execution_count": 25,
   "id": "e9c41d87",
   "metadata": {},
   "outputs": [],
   "source": [
    "voice = 'fr-FR_ReneeV3Voice'"
   ]
  },
  {
   "cell_type": "code",
   "execution_count": 26,
   "id": "0d31ea4a",
   "metadata": {},
   "outputs": [],
   "source": [
    "# Frere Jacque\n",
    "frere = \"\"\"Frère Jacques\n",
    "    Frère Jacques\n",
    "    Dormez-vous?\n",
    "    Dormez-vous?\n",
    "    Sonnez les matines\n",
    "    Sonnez les matines\n",
    "    Ding, ding, dong\n",
    "    Ding, ding, dong\n",
    "    Frère Jacques\n",
    "    Frère Jacques\n",
    "    Dormez-vous?\n",
    "    Dormez-vous?\n",
    "    Sonnez les matines\n",
    "    Sonnez les matines\n",
    "    Ding, ding, dong\n",
    "    Ding, ding, dong\n",
    "    Ding, ding, dong\n",
    "    Ding, ding, dong\"\"\""
   ]
  },
  {
   "cell_type": "code",
   "execution_count": 28,
   "id": "434fc326",
   "metadata": {},
   "outputs": [],
   "source": [
    "with open('./frenchconv.mp3', 'wb') as audio_file:\n",
    "    res = tts.synthesize(frere, accept='audio/mp3', voice='fr-FR_ReneeV3Voice').get_result()\n",
    "    audio_file.write(res.content)"
   ]
  }
 ],
 "metadata": {
  "kernelspec": {
   "display_name": "Python 3 (ipykernel)",
   "language": "python",
   "name": "python3"
  },
  "language_info": {
   "codemirror_mode": {
    "name": "ipython",
    "version": 3
   },
   "file_extension": ".py",
   "mimetype": "text/x-python",
   "name": "python",
   "nbconvert_exporter": "python",
   "pygments_lexer": "ipython3",
   "version": "3.9.7"
  }
 },
 "nbformat": 4,
 "nbformat_minor": 5
}
